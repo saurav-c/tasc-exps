{
 "cells": [
  {
   "cell_type": "code",
   "execution_count": 1,
   "metadata": {},
   "outputs": [],
   "source": [
    "import pandas as pd\n",
    "import matplotlib.pyplot as plt"
   ]
  },
  {
   "cell_type": "code",
   "execution_count": 2,
   "metadata": {},
   "outputs": [],
   "source": [
    "stats = pd.read_csv(\"stats.csv\")"
   ]
  },
  {
   "cell_type": "code",
   "execution_count": 3,
   "metadata": {},
   "outputs": [
    {
     "data": {
      "text/plain": [
       "message\n",
       "Commit time                          8.325334\n",
       "End Transaction Time                 0.004178\n",
       "End pusher time                      0.007963\n",
       "End txn response pusher time         0.007982\n",
       "Overall commit version index time    0.001181\n",
       "Phase 1 2PC Time                     0.633337\n",
       "Phase 2 2PC Time                     0.517343\n",
       "Read time                            0.001052\n",
       "Router Lookup time                   0.559544\n",
       "Router pusher time                   0.008887\n",
       "Start Txn Time                       0.002717\n",
       "Storage write index time             4.329021\n",
       "Validate pusher time                 0.008719\n",
       "Validation Time                      0.009704\n",
       "Validation response pusher time      0.007330\n",
       "Write time                           0.001096\n",
       "Write to Storage time                0.027420\n",
       "Name: latency, dtype: float64"
      ]
     },
     "execution_count": 3,
     "metadata": {},
     "output_type": "execute_result"
    }
   ],
   "source": [
    "stats.groupby(by=\"message\").mean()[\"latency\"]"
   ]
  },
  {
   "cell_type": "code",
   "execution_count": 4,
   "metadata": {},
   "outputs": [
    {
     "data": {
      "text/plain": [
       "tid\n",
       "bb9eca6c                                                                       4329.020723\n",
       "bb9eca6c-6b9d-43f2-6c63-d7d29e806b7b-0-005468ad-31b0-47d3-784f-abf250623c49       9.190453\n",
       "bb9eca6c-6b9d-43f2-6c63-d7d29e806b7b-0-007737b1-60d4-4d20-58b2-27662819d896       9.657999\n",
       "bb9eca6c-6b9d-43f2-6c63-d7d29e806b7b-0-00ee55b1-0a49-48f2-5ee5-384ac222b1cd       9.229660\n",
       "bb9eca6c-6b9d-43f2-6c63-d7d29e806b7b-0-013dbefa-50da-4161-4ec3-5de463ec4e4d       9.879109\n",
       "                                                                                  ...     \n",
       "bb9eca6c-6b9d-43f2-6c63-d7d29e806b7b-0-fe520166-1075-40e6-7fd7-99181246fc7e       9.395830\n",
       "bb9eca6c-6b9d-43f2-6c63-d7d29e806b7b-0-feae98c4-7bb8-4179-7a2f-17ed17e9b7f1       8.932604\n",
       "bb9eca6c-6b9d-43f2-6c63-d7d29e806b7b-0-fefd76dc-3262-4982-5c64-af60ab1bd731       9.577911\n",
       "bb9eca6c-6b9d-43f2-6c63-d7d29e806b7b-0-ff9ce997-0e04-4baf-4f3e-96b8b1d91dcb       9.529544\n",
       "bb9eca6c-6b9d-43f2-6c63-d7d29e806b7b-0-ffa0082b-2b2f-4820-53f6-65ce8fd836ed       9.896549\n",
       "Name: latency, Length: 1001, dtype: float64"
      ]
     },
     "execution_count": 4,
     "metadata": {},
     "output_type": "execute_result"
    }
   ],
   "source": [
    "stats.groupby(by=\"tid\").sum()[\"latency\"]"
   ]
  },
  {
   "cell_type": "code",
   "execution_count": 6,
   "metadata": {},
   "outputs": [
    {
     "data": {
      "text/html": [
       "<div>\n",
       "<style scoped>\n",
       "    .dataframe tbody tr th:only-of-type {\n",
       "        vertical-align: middle;\n",
       "    }\n",
       "\n",
       "    .dataframe tbody tr th {\n",
       "        vertical-align: top;\n",
       "    }\n",
       "\n",
       "    .dataframe thead th {\n",
       "        text-align: right;\n",
       "    }\n",
       "</style>\n",
       "<table border=\"1\" class=\"dataframe\">\n",
       "  <thead>\n",
       "    <tr style=\"text-align: right;\">\n",
       "      <th></th>\n",
       "      <th>Unnamed: 0</th>\n",
       "      <th>tid</th>\n",
       "      <th>message</th>\n",
       "      <th>latency</th>\n",
       "      <th>type</th>\n",
       "      <th>address</th>\n",
       "    </tr>\n",
       "  </thead>\n",
       "  <tbody>\n",
       "    <tr>\n",
       "      <th>39</th>\n",
       "      <td>39</td>\n",
       "      <td>bb9eca6c</td>\n",
       "      <td>Storage write index time</td>\n",
       "      <td>25.921911</td>\n",
       "      <td>KEY</td>\n",
       "      <td>52.91.11.241</td>\n",
       "    </tr>\n",
       "    <tr>\n",
       "      <th>40</th>\n",
       "      <td>40</td>\n",
       "      <td>bb9eca6c</td>\n",
       "      <td>Storage write index time</td>\n",
       "      <td>21.787734</td>\n",
       "      <td>KEY</td>\n",
       "      <td>52.91.11.241</td>\n",
       "    </tr>\n",
       "    <tr>\n",
       "      <th>41</th>\n",
       "      <td>41</td>\n",
       "      <td>bb9eca6c</td>\n",
       "      <td>Storage write index time</td>\n",
       "      <td>18.706548</td>\n",
       "      <td>KEY</td>\n",
       "      <td>52.91.11.241</td>\n",
       "    </tr>\n",
       "    <tr>\n",
       "      <th>42</th>\n",
       "      <td>42</td>\n",
       "      <td>bb9eca6c</td>\n",
       "      <td>Storage write index time</td>\n",
       "      <td>42.039040</td>\n",
       "      <td>KEY</td>\n",
       "      <td>52.91.11.241</td>\n",
       "    </tr>\n",
       "    <tr>\n",
       "      <th>43</th>\n",
       "      <td>43</td>\n",
       "      <td>bb9eca6c</td>\n",
       "      <td>Storage write index time</td>\n",
       "      <td>22.589914</td>\n",
       "      <td>KEY</td>\n",
       "      <td>52.91.11.241</td>\n",
       "    </tr>\n",
       "    <tr>\n",
       "      <th>...</th>\n",
       "      <td>...</td>\n",
       "      <td>...</td>\n",
       "      <td>...</td>\n",
       "      <td>...</td>\n",
       "      <td>...</td>\n",
       "      <td>...</td>\n",
       "    </tr>\n",
       "    <tr>\n",
       "      <th>5817</th>\n",
       "      <td>5817</td>\n",
       "      <td>bb9eca6c</td>\n",
       "      <td>Storage write index time</td>\n",
       "      <td>3.609075</td>\n",
       "      <td>KEY</td>\n",
       "      <td>52.91.11.241</td>\n",
       "    </tr>\n",
       "    <tr>\n",
       "      <th>5818</th>\n",
       "      <td>5818</td>\n",
       "      <td>bb9eca6c</td>\n",
       "      <td>Storage write index time</td>\n",
       "      <td>3.513616</td>\n",
       "      <td>KEY</td>\n",
       "      <td>52.91.11.241</td>\n",
       "    </tr>\n",
       "    <tr>\n",
       "      <th>5819</th>\n",
       "      <td>5819</td>\n",
       "      <td>bb9eca6c</td>\n",
       "      <td>Storage write index time</td>\n",
       "      <td>3.541631</td>\n",
       "      <td>KEY</td>\n",
       "      <td>52.91.11.241</td>\n",
       "    </tr>\n",
       "    <tr>\n",
       "      <th>5820</th>\n",
       "      <td>5820</td>\n",
       "      <td>bb9eca6c</td>\n",
       "      <td>Storage write index time</td>\n",
       "      <td>3.703912</td>\n",
       "      <td>KEY</td>\n",
       "      <td>52.91.11.241</td>\n",
       "    </tr>\n",
       "    <tr>\n",
       "      <th>5821</th>\n",
       "      <td>5821</td>\n",
       "      <td>bb9eca6c</td>\n",
       "      <td>Storage write index time</td>\n",
       "      <td>3.611950</td>\n",
       "      <td>KEY</td>\n",
       "      <td>52.91.11.241</td>\n",
       "    </tr>\n",
       "  </tbody>\n",
       "</table>\n",
       "<p>1000 rows × 6 columns</p>\n",
       "</div>"
      ],
      "text/plain": [
       "      Unnamed: 0       tid                   message    latency type  \\\n",
       "39            39  bb9eca6c  Storage write index time  25.921911  KEY   \n",
       "40            40  bb9eca6c  Storage write index time  21.787734  KEY   \n",
       "41            41  bb9eca6c  Storage write index time  18.706548  KEY   \n",
       "42            42  bb9eca6c  Storage write index time  42.039040  KEY   \n",
       "43            43  bb9eca6c  Storage write index time  22.589914  KEY   \n",
       "...          ...       ...                       ...        ...  ...   \n",
       "5817        5817  bb9eca6c  Storage write index time   3.609075  KEY   \n",
       "5818        5818  bb9eca6c  Storage write index time   3.513616  KEY   \n",
       "5819        5819  bb9eca6c  Storage write index time   3.541631  KEY   \n",
       "5820        5820  bb9eca6c  Storage write index time   3.703912  KEY   \n",
       "5821        5821  bb9eca6c  Storage write index time   3.611950  KEY   \n",
       "\n",
       "           address  \n",
       "39    52.91.11.241  \n",
       "40    52.91.11.241  \n",
       "41    52.91.11.241  \n",
       "42    52.91.11.241  \n",
       "43    52.91.11.241  \n",
       "...            ...  \n",
       "5817  52.91.11.241  \n",
       "5818  52.91.11.241  \n",
       "5819  52.91.11.241  \n",
       "5820  52.91.11.241  \n",
       "5821  52.91.11.241  \n",
       "\n",
       "[1000 rows x 6 columns]"
      ]
     },
     "execution_count": 6,
     "metadata": {},
     "output_type": "execute_result"
    }
   ],
   "source": [
    "stats[stats[\"tid\"]==\"bb9eca6c\"]"
   ]
  },
  {
   "cell_type": "code",
   "execution_count": 8,
   "metadata": {},
   "outputs": [],
   "source": [
    "stats_new = stats[stats[\"tid\"]!=\"bb9eca6c\"]"
   ]
  },
  {
   "cell_type": "code",
   "execution_count": 10,
   "metadata": {
    "scrolled": true
   },
   "outputs": [
    {
     "data": {
      "text/plain": [
       "tid\n",
       "bb9eca6c-6b9d-43f2-6c63-d7d29e806b7b-0-005468ad-31b0-47d3-784f-abf250623c49    9.190453\n",
       "bb9eca6c-6b9d-43f2-6c63-d7d29e806b7b-0-007737b1-60d4-4d20-58b2-27662819d896    9.657999\n",
       "bb9eca6c-6b9d-43f2-6c63-d7d29e806b7b-0-00ee55b1-0a49-48f2-5ee5-384ac222b1cd    9.229660\n",
       "bb9eca6c-6b9d-43f2-6c63-d7d29e806b7b-0-013dbefa-50da-4161-4ec3-5de463ec4e4d    9.879109\n",
       "bb9eca6c-6b9d-43f2-6c63-d7d29e806b7b-0-018817ab-02da-44aa-68b9-874c311944b0    9.861367\n",
       "                                                                                 ...   \n",
       "bb9eca6c-6b9d-43f2-6c63-d7d29e806b7b-0-fe520166-1075-40e6-7fd7-99181246fc7e    9.395830\n",
       "bb9eca6c-6b9d-43f2-6c63-d7d29e806b7b-0-feae98c4-7bb8-4179-7a2f-17ed17e9b7f1    8.932604\n",
       "bb9eca6c-6b9d-43f2-6c63-d7d29e806b7b-0-fefd76dc-3262-4982-5c64-af60ab1bd731    9.577911\n",
       "bb9eca6c-6b9d-43f2-6c63-d7d29e806b7b-0-ff9ce997-0e04-4baf-4f3e-96b8b1d91dcb    9.529544\n",
       "bb9eca6c-6b9d-43f2-6c63-d7d29e806b7b-0-ffa0082b-2b2f-4820-53f6-65ce8fd836ed    9.896549\n",
       "Name: latency, Length: 1000, dtype: float64"
      ]
     },
     "execution_count": 10,
     "metadata": {},
     "output_type": "execute_result"
    }
   ],
   "source": [
    "stats_new.groupby(by=\"tid\").sum()[\"latency\"]"
   ]
  },
  {
   "cell_type": "code",
   "execution_count": 11,
   "metadata": {},
   "outputs": [],
   "source": [
    "latency = list(stats_new.loc[stats['message'] == \"Commit time\"].groupby(\"tid\").mean()[\"latency\"])[:100]"
   ]
  },
  {
   "cell_type": "code",
   "execution_count": 12,
   "metadata": {},
   "outputs": [],
   "source": [
    "pendingKVI = list(stats_new.loc[stats['message'] == \"Delete From Pending KVI Time\"].groupby(\"tid\").mean()[\"latency\"])[:100]"
   ]
  },
  {
   "cell_type": "code",
   "execution_count": 13,
   "metadata": {},
   "outputs": [],
   "source": [
    "tids = list(stats_new.groupby(\"tid\").mean().index)[:100]"
   ]
  },
  {
   "cell_type": "code",
   "execution_count": null,
   "metadata": {},
   "outputs": [],
   "source": [
    "plt.rcParams[\"figure.figsize\"] = (10,10)\n",
    "plt.bar(tids, latency)\n",
    "plt.show()"
   ]
  },
  {
   "cell_type": "code",
   "execution_count": null,
   "metadata": {},
   "outputs": [],
   "source": [
    "plt.rcParams[\"figure.figsize\"] = (10,10)\n",
    "plt.bar(tids, pendingKVI)\n",
    "plt.show()"
   ]
  },
  {
   "cell_type": "code",
   "execution_count": null,
   "metadata": {},
   "outputs": [],
   "source": [
    "tids"
   ]
  },
  {
   "cell_type": "code",
   "execution_count": null,
   "metadata": {},
   "outputs": [],
   "source": []
  }
 ],
 "metadata": {
  "kernelspec": {
   "display_name": "Python 3",
   "language": "python",
   "name": "python3"
  },
  "language_info": {
   "codemirror_mode": {
    "name": "ipython",
    "version": 3
   },
   "file_extension": ".py",
   "mimetype": "text/x-python",
   "name": "python",
   "nbconvert_exporter": "python",
   "pygments_lexer": "ipython3",
   "version": "3.7.4"
  }
 },
 "nbformat": 4,
 "nbformat_minor": 2
}
