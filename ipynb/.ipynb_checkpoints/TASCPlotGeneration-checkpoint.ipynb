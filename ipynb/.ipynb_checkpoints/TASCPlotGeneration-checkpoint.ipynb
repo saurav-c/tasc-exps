{
 "cells": [
  {
   "cell_type": "code",
   "execution_count": 1,
   "metadata": {},
   "outputs": [],
   "source": [
    "import numpy as np\n",
    "import matplotlib.pyplot as plt"
   ]
  },
  {
   "cell_type": "code",
   "execution_count": 2,
   "metadata": {},
   "outputs": [],
   "source": [
    "def autolabel(rects, errors):\n",
    "    for index, rect in enumerate(rects):\n",
    "        height = rect.get_height()\n",
    "        ax.annotate('{}'.format(round(height, 2)),\n",
    "                    xy=(rect.get_x() + rect.get_width() / 2, height - 4),\n",
    "                    xytext=(0, 0),  # 3 points vertical offset\n",
    "                    textcoords=\"offset points\",\n",
    "                    ha='center', va='bottom', color='white')\n",
    "        error = height + errors[index]\n",
    "        ax.annotate('{}'.format(round(error, 2)),\n",
    "                    xy=(rect.get_x() + rect.get_width() / 2, error),\n",
    "                    xytext=(0, 3),  # 3 points vertical offset\n",
    "                    textcoords=\"offset points\",\n",
    "                    ha='center', va='bottom')"
   ]
  },
  {
   "cell_type": "code",
   "execution_count": 3,
   "metadata": {},
   "outputs": [],
   "source": [
    "error_kw = {'capsize': 5, 'capthick': 1, 'ecolor': 'black'}"
   ]
  },
  {
   "cell_type": "code",
   "execution_count": null,
   "metadata": {},
   "outputs": [],
   "source": [
    "medians = np.array([[5.024589, 24.495479, 49.190205],[3.987571, 6.054982, 7.170044],[8.742275, 11.008927, 13.564887],[3.129104, 4.432588, 5.986886]])\n",
    "percentiles = np.array([[10.166944, 44.713928, 92.989043],[9.993019, 19.227101, 30.651249],[16.374029, 21.901717, 36.744330],[3.709821, 5.160736, 7.018081]])\n",
    "x_label = [\"1 Write\", \"5 Writes\", \"10 Writes\"]"
   ]
  },
  {
   "cell_type": "code",
   "execution_count": null,
   "metadata": {
    "scrolled": false
   },
   "outputs": [],
   "source": [
    "fig, ax = plt.subplots(figsize=(7,7))\n",
    "\n",
    "width = 0.8\n",
    "x = np.arange(len(x_label))\n",
    "ax.set_xticks(x)\n",
    "ax.set_xticklabels(x_label)\n",
    "\n",
    "median_anna = medians[0]\n",
    "percentile_anna = percentiles[0]\n",
    "error_anna = [np.zeros(len(x_label)), percentile_anna - median_anna]\n",
    "\n",
    "median_tasc = medians[1]\n",
    "percentile_tasc = percentiles[1]\n",
    "error_tasc = [np.zeros(len(x_label)), percentile_tasc - median_tasc]\n",
    "\n",
    "plot_anna = ax.bar(x - width/4, median_anna, color='mediumaquamarine', width=width/4, yerr=error_anna, error_kw=error_kw, align='center', label=\"AFTSI\")\n",
    "autolabel(plot_anna, error_anna[1])\n",
    "\n",
    "plot_tasc = ax.bar(x + width/4, median_tasc, color='mediumaquamarine', width=width/4, yerr=error_tasc, error_kw=error_kw, align='center', label=\"AFTSI\")\n",
    "autolabel(plot_tasc, error_tasc[1])\n",
    "\n",
    "ax.set_ylim(0, 100)\n",
    "ax.legend()\n",
    "ax.set_facecolor('lightblue')\n",
    "ax.set_ylabel(\"Latency (ms)\")\n",
    "\n",
    "fig.show()\n",
    "fig.savefig('Graphs/writesvslatency.png')"
   ]
  },
  {
   "cell_type": "code",
   "execution_count": null,
   "metadata": {},
   "outputs": [],
   "source": [
    "medians = np.array([22.060884, 21.478617, 30.033525, 25.389258])\n",
    "percentiles = np.array([47.550546, 47.244204, 69.649711, 60.728138])\n",
    "x_label = [\"Dynamo Direct\", \"TASC\"]"
   ]
  },
  {
   "cell_type": "code",
   "execution_count": null,
   "metadata": {},
   "outputs": [],
   "source": [
    "fig, ax = plt.subplots(figsize=(7,7))\n",
    "\n",
    "width = 0.5\n",
    "x = np.arange(len(x_label))\n",
    "ax.set_xticks(x)\n",
    "ax.set_xticklabels(x_label)\n",
    "\n",
    "errors = [np.zeros(len(x_label)), percentiles - medians]\n",
    "errors_dy = [np.zeros(1), [percentiles[0] - medians[0]]]\n",
    "errors_dy_b = [np.zeros(1), [percentiles[1] - medians[1]]]\n",
    "errors_aftsi = [np.zeros(1), [percentiles[2] - medians[2]]]\n",
    "errors_aftsi_b = [np.zeros(1), [percentiles[3] - medians[3]]]\n",
    "\n",
    "plot_dy = ax.bar(0, medians[0], color='darkgreen', width=width, yerr=errors_dy, error_kw=error_kw, align='center', label=\"Dynamo Direct\")\n",
    "autolabel(plot_dy, errors_dy[1])\n",
    "\n",
    "plot_dy_b = ax.bar(1, medians[1], color='green', width=width, yerr=errors_dy_b, error_kw=error_kw, align='center', label=\"Dynamo Direct\")\n",
    "autolabel(plot_dy_b, errors_dy_b[1])\n",
    "\n",
    "plot_aftsi = ax.bar(2, medians[2], color='mediumaquamarine', width=width, yerr=errors_aftsi, error_kw=error_kw, align='center', label=\"Dynamo Direct\")\n",
    "autolabel(plot_aftsi, errors_aftsi[1])\n",
    "\n",
    "plot_aftsi_b = ax.bar(3, medians[3], color='mediumseagreen', width=width, yerr=errors_aftsi_b, error_kw=error_kw, align='center', label=\"Dynamo Direct\")\n",
    "autolabel(plot_aftsi_b, errors_aftsi_b[1])\n",
    "\n",
    "ax.set_ylim(0, 80)\n",
    "ax.set_facecolor('lightblue')\n",
    "ax.set_ylabel(\"Latency (ms)\")\n",
    "\n",
    "fig.show()\n",
    "fig.savefig('Graphs/latency_twofn.png')"
   ]
  },
  {
   "cell_type": "code",
   "execution_count": null,
   "metadata": {},
   "outputs": [],
   "source": [
    "medians = np.array([[42.882110, 42.706827, 39.725585, 37.030785, 34.219715, 31.837466],[7.446715, 14.974386, 22.168230, 29.160213, 36.250658, 30.529831],[14.347123, 21.433669, 30.473405, 38.612328, 45.403399, 46.395837],[5.985393, 16.449884, 25.876039, 35.000384, 43.032493, 47.193852]])\n",
    "percentiles = np.array([[75.553373, 72.646017, 81.787136, 72.950132, 59.074945, 73.109343],[16.626891, 44.350642, 46.194938, 65.890349, 62.032767, 67.015113],[48.135919, 58.039841, 75.744323, 83.564654, 94.587639, 88.436672],[7.154005, 29.990383, 45.215195, 63.514627, 87.423883, 89.273590]])\n",
    "x_label = [\"0%\", \"20%\", \"40%\", \"60%\", \"80%\", \"100%\"]"
   ]
  },
  {
   "cell_type": "code",
   "execution_count": null,
   "metadata": {},
   "outputs": [],
   "source": [
    "fig, ax = plt.subplots(figsize=(8,8))\n",
    "\n",
    "width = 1\n",
    "x = np.arange(len(x_label)) * 1.5\n",
    "\n",
    "ax.set_xticks(x)\n",
    "ax.set_xticklabels(x_label)\n",
    "\n",
    "median_dy_direct = medians[0]\n",
    "percentile_dy_direct = percentiles[0]\n",
    "error_dy_direct = [np.zeros(len(x_label)), percentile_dy_direct - median_dy_direct]\n",
    "\n",
    "median_dy_direct_batch = medians[1]\n",
    "percentile_dy_direct_batch = percentiles[1]\n",
    "error_dy_direct_batch = [np.zeros(len(x_label)), percentile_dy_direct - median_dy_direct]\n",
    "\n",
    "\n",
    "plot_dy = ax.bar(x - 7*width/8, median_dy_direct, color='darkgreen', width=width/2, yerr=error_dy_direct, error_kw=error_kw, align='center', label=\"Dynamo Direct\")\n",
    "autolabel(plot_dy, error_dy_direct[1])\n",
    "\n",
    "plot_dy = ax.bar(x - 3*width/8, median_dy_direct_batch, color='green', width=width/2, yerr=error_dy_direct_batch, error_kw=error_kw, align='center', label=\"Dynamo Direct Batch\")\n",
    "autolabel(plot_dy, error_dy_direct_batch[1])\n",
    "\n",
    "ax.set_ylim(0, 100)\n",
    "ax.legend()\n",
    "ax.set_facecolor('lightblue')\n",
    "ax.set_ylabel(\"Latency (ms)\")\n",
    "ax.set_xlabel(\"% of Reads\")\n",
    "\n",
    "fig.show()\n",
    "fig.savefig('Graphs/latencypercentage_anna.png')"
   ]
  },
  {
   "cell_type": "code",
   "execution_count": null,
   "metadata": {},
   "outputs": [],
   "source": [
    "fig, ax = plt.subplots(figsize=(8,8))\n",
    "\n",
    "width = 1\n",
    "x = np.arange(len(x_label)) * 1.5\n",
    "\n",
    "ax.set_xticks(x)\n",
    "ax.set_xticklabels(x_label)\n",
    "\n",
    "median_aftsi = medians[2]\n",
    "percentile_aftsi = percentiles[2]\n",
    "error_aftsi = [np.zeros(len(x_label)), percentile_aftsi - median_aftsi]\n",
    "\n",
    "median_aftsi_buffer = medians[3]\n",
    "percentile_aftsi_buffer = percentiles[3]\n",
    "error_aftsi_buffer = [np.zeros(len(x_label)), percentile_aftsi_buffer - median_aftsi_buffer]\n",
    "\n",
    "plot_aftsi = ax.bar(x + width/8, median_aftsi, color='mediumaquamarine', width=width/2, yerr=error_aftsi, error_kw=error_kw, align='center', label=\"AFTSI\")\n",
    "autolabel(plot_aftsi, error_aftsi[1])\n",
    "\n",
    "plot_aftsi_buffer = ax.bar(x + 5*width/8, median_aftsi_buffer, color='mediumseagreen', width=width/2, yerr=error_aftsi_buffer, error_kw=error_kw, align='center', label=\"AFTSI Buffer\")\n",
    "autolabel(plot_aftsi_buffer, error_aftsi_buffer[1])\n",
    "\n",
    "ax.set_ylim(0, 100)\n",
    "ax.legend()\n",
    "ax.set_facecolor('lightblue')\n",
    "ax.set_ylabel(\"Latency (ms)\")\n",
    "ax.set_xlabel(\"% of Reads\")\n",
    "\n",
    "fig.show()\n",
    "fig.savefig('Graphs/latencypercentage_tasc.png')"
   ]
  },
  {
   "cell_type": "code",
   "execution_count": null,
   "metadata": {},
   "outputs": [],
   "source": []
  }
 ],
 "metadata": {
  "kernelspec": {
   "display_name": "Python 3",
   "language": "python",
   "name": "python3"
  },
  "language_info": {
   "codemirror_mode": {
    "name": "ipython",
    "version": 3
   },
   "file_extension": ".py",
   "mimetype": "text/x-python",
   "name": "python",
   "nbconvert_exporter": "python",
   "pygments_lexer": "ipython3",
   "version": "3.7.4"
  }
 },
 "nbformat": 4,
 "nbformat_minor": 2
}
